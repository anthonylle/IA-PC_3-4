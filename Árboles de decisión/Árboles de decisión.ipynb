{
 "cells": [
  {
   "cell_type": "markdown",
   "metadata": {},
   "source": [
    "<center> <h1>Árboles de decisión</h1> </center>\n",
    "<h2>Introducción</h2>\n",
    "Ténica de clasificación de datos mediante aprendizaje inductivo en donde existe variables predictoras que son los ejes de las decisiones que se deben interpretar y estas son representadas por medio de un árbol\n",
    "</br>\n",
    "<h2>Algoritmo base</h2>\n",
    "El algoritmo TDIDT <i>(Top Down Induction of Decision Trees)</i> es la generalización de todos los algoritmos que se usan en árboles de decisión </br>\n",
    "<img src=\"pseudocode.png\" />\n",
    "El pseudocódigo del algoritmo TDIDT puede contemplarse en la Figura 1. La idea subyacente al algoritmo TDIDT es que mientras que todos los patrones que se correspondan con una determinada rama del árbol de clasificación no pertenezcan a una misma clase, se seleccione la variable que de entre las no seleccionadas en esa 1 rama sea la más informativa o la más idónea con respecto de un criterio previamente establecido. La elección de esta variable sirve para expandir el árbol en tantas ramas como posibles valores toma dicha variable."
   ]
  },
  {
   "cell_type": "code",
   "execution_count": null,
   "metadata": {},
   "outputs": [],
   "source": []
  }
 ],
 "metadata": {
  "kernelspec": {
   "display_name": "Python 2",
   "language": "python",
   "name": "python2"
  },
  "language_info": {
   "codemirror_mode": {
    "name": "ipython",
    "version": 2
   },
   "file_extension": ".py",
   "mimetype": "text/x-python",
   "name": "python",
   "nbconvert_exporter": "python",
   "pygments_lexer": "ipython2",
   "version": "2.7.14"
  }
 },
 "nbformat": 4,
 "nbformat_minor": 2
}
