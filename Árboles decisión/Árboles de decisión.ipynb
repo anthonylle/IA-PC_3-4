{
 "cells": [
  {
   "cell_type": "markdown",
   "metadata": {},
   "source": [
    "<h1>Árboles de decisión</h1>"
   ]
  },
  {
   "cell_type": "markdown",
   "metadata": {},
   "source": [
    "Randall Delgado\n",
    "<br>\n",
    "Jake Herrera\n",
    "<br>\n",
    "Anthony Leandro"
   ]
  },
  {
   "cell_type": "markdown",
   "metadata": {},
   "source": [
    "Un árbol de decisión es un modelo de predicción utilizado en diversos ámbitos que van desde la inteligencia artificial hasta la Economía. Dado un conjunto de datos se fabrican diagramas de construcciones lógicas, muy similares a los sistemas de predicción basados en reglas, que sirven para representar y categorizar una serie de condiciones que ocurren de forma sucesiva, para la resolución de un problema. \n",
    "\n",
    "Un árbol de decisión toma como entrada un objeto o una situación descrita a través de un conjunto de atributos y devuelve una «decisión»: el valor previsto de la salida dada la entrada. Los atributos de entrada pueden ser discretos o continuos. A partir de ahora, asumiremos entradas discretas. El valor de la salida puede ser a su vez discreto o continuo; aprender una función de valores discretos se denomina clasificación; aprender una \tfunción continua se denomina regresión. Nos concentraremos en clasificaciones booleanas, en las cuales cada ejemplo se clasifica como verdadero (positivo) o falso (negativo) (Russell & Norvig, 2004, p.744). \n",
    "\n",
    "Un árbol de decisión desarrolla una secuencia de test para poder alcanzar una decisión. Cada nodo interno del árbol corresponde con un test sobre el valor de una de las propiedades, y las ramas que salen del nodo están etiquetadas con los posibles valores de dicha propiedad. Cada nodo hoja \tdel árbol representa el valor que ha de ser devuelto si dicho nodo hoja es alcanzado. La representación en forma de árboles de decisión es muy natural para los humanos; en realidad muchos manuales que explican cómo hacer determinadas tareas (por ejemplo, reparar un coche) están escritos en su totalidad como un único árbol de decisión abarcando cientos de páginas (Russell & Norvig, 2004, p.744).\n"
   ]
  },
  {
   "cell_type": "markdown",
   "metadata": {},
   "source": [
    "<h2>Pseudocódigo:</h2>"
   ]
  },
  {
   "cell_type": "markdown",
   "metadata": {},
   "source": [
    "función <b>APRENDIZAJE-ÁRBOL-DECISIÓN(ejemplos, atribs, por-defecto):</b>\n",
    "<br><br>\n",
    "<b>devolver</b> árbol de decisión \t\n",
    "<br>\n",
    "<b>entradas</b>: \n",
    "<br>\n",
    "<p style='margin-left: 2em'><b>ejemplos:</b> conjunto de ejemplos</p>\n",
    "<p style='margin-left: 2em'><b>atribs:</b> conjunto de atributos</p>\n",
    "<p style='margin-left: 2em'><b>por-defecto:</b> valor por defecto del predicado meta</p>\n",
    "<br>\n",
    "\n",
    "si <b>ejemplos</b> está vacío:\n",
    "<p style='margin-left: 2em'>devolver <b>por-defecto</b></p>\n",
    "<p>si no:</p>\n",
    "<p style='margin-left: 2em'>si <b>todos</b> los elementos de ejemplos tienen <b>la misma clasificación</b>:</p>\n",
    "<p style='margin-left: 4em'>devolver <b>clasificación</b></p>\n",
    "<p style='margin-left: 2em'>si no:</p>\n",
    "<p style='margin-left: 4em'>si <b>atribs</b> está vacío:</p>\n",
    "<p style='margin-left: 6em'>devolver <b>VALOR-MAYORÍA(ejemplos)</b></p>\n",
    "<p style='margin-left: 4em'>si no:</p> \n",
    "<p style='margin-left: 6em'>mejor ; <br>\n",
    "                            <b>ELEGIR-ATRIBUTO(atribs, ejemplos)</b> arbol ; <br>\n",
    "                            un nuevo árbol de decisión con nodo raíz mejor m ; <br>\n",
    "                            <b>VALOR-MAYORÍA(ejemplosi)</b> para cada valor vi de mejor hacer ejemplosi ; <br>\n",
    "                            {elementos de <b>ejemplos</b> con <b>mejor = vi</b> } subarbol ; <br>\n",
    "                            <b>APRENDIZAJE-ÁRBOL-DECISIÓN(ejemplosi, atribs-mejor, m)</b> ; <br>\n",
    "                            añadir una rama a arbol con la etiqueta <b>vi</b> y el subárbol <b>subarbol</b> ; <br>\n",
    "                            devolver <b>arbol</b>\n",
    "</p>"
   ]
  },
  {
   "cell_type": "markdown",
   "metadata": {},
   "source": [
    "<h2>Ejemplos:</h2>"
   ]
  },
  {
   "cell_type": "code",
   "execution_count": 16,
   "metadata": {},
   "outputs": [
    {
     "data": {
      "text/html": [
       "<div>\n",
       "<style scoped>\n",
       "    .dataframe tbody tr th:only-of-type {\n",
       "        vertical-align: middle;\n",
       "    }\n",
       "\n",
       "    .dataframe tbody tr th {\n",
       "        vertical-align: top;\n",
       "    }\n",
       "\n",
       "    .dataframe thead th {\n",
       "        text-align: right;\n",
       "    }\n",
       "</style>\n",
       "<table border=\"1\" class=\"dataframe\">\n",
       "  <thead>\n",
       "    <tr style=\"text-align: right;\">\n",
       "      <th></th>\n",
       "      <th>id'</th>\n",
       "      <th>'clima'</th>\n",
       "      <th>'temperatura'</th>\n",
       "      <th>'humedad'</th>\n",
       "      <th>'viento'</th>\n",
       "      <th>'palos'</th>\n",
       "      <th>'jugar</th>\n",
       "    </tr>\n",
       "  </thead>\n",
       "  <tbody>\n",
       "    <tr>\n",
       "      <th>0</th>\n",
       "      <td>1'</td>\n",
       "      <td>'lluvioso'</td>\n",
       "      <td>'frio'</td>\n",
       "      <td>'normal'</td>\n",
       "      <td>'no'</td>\n",
       "      <td>'buenos'</td>\n",
       "      <td>'si</td>\n",
       "    </tr>\n",
       "    <tr>\n",
       "      <th>1</th>\n",
       "      <td>2'</td>\n",
       "      <td>'lluvioso'</td>\n",
       "      <td>'frio'</td>\n",
       "      <td>'normal'</td>\n",
       "      <td>'si'</td>\n",
       "      <td>'buenos'</td>\n",
       "      <td>'no</td>\n",
       "    </tr>\n",
       "    <tr>\n",
       "      <th>2</th>\n",
       "      <td>3'</td>\n",
       "      <td>'nublado'</td>\n",
       "      <td>'caliente'</td>\n",
       "      <td>'alta'</td>\n",
       "      <td>'no'</td>\n",
       "      <td>'buenos'</td>\n",
       "      <td>'si</td>\n",
       "    </tr>\n",
       "    <tr>\n",
       "      <th>3</th>\n",
       "      <td>4'</td>\n",
       "      <td>'soleado'</td>\n",
       "      <td>'templado'</td>\n",
       "      <td>'alta'</td>\n",
       "      <td>'no'</td>\n",
       "      <td>'malos'</td>\n",
       "      <td>'no</td>\n",
       "    </tr>\n",
       "    <tr>\n",
       "      <th>4</th>\n",
       "      <td>5'</td>\n",
       "      <td>'lluvioso'</td>\n",
       "      <td>'frio'</td>\n",
       "      <td>'normal'</td>\n",
       "      <td>'no'</td>\n",
       "      <td>'buenos'</td>\n",
       "      <td>'si</td>\n",
       "    </tr>\n",
       "  </tbody>\n",
       "</table>\n",
       "</div>"
      ],
      "text/plain": [
       "  id'     'clima' 'temperatura' 'humedad' 'viento'   'palos' 'jugar\n",
       "0  1'  'lluvioso'        'frio'  'normal'     'no'  'buenos'    'si\n",
       "1  2'  'lluvioso'        'frio'  'normal'     'si'  'buenos'    'no\n",
       "2  3'   'nublado'    'caliente'    'alta'     'no'  'buenos'    'si\n",
       "3  4'   'soleado'    'templado'    'alta'     'no'   'malos'    'no\n",
       "4  5'  'lluvioso'        'frio'  'normal'     'no'  'buenos'    'si"
      ]
     },
     "execution_count": 16,
     "metadata": {},
     "output_type": "execute_result"
    }
   ],
   "source": [
    "#import sys\n",
    "#!{sys.executable} -m pip install pydotplus\n",
    "#!{sys.executable} -m pip install pandas\n",
    "#!{sys.executable} -m pip install sklearn\n",
    "#!{sys.executable} -m pip install collections\n",
    "#!{sys.executable} -m pip install IPython\n",
    "#!{sys.executable} -m pip install graphviz\n",
    "#!{sys.executable} -m pip install seaborn\n",
    "#!{sys.executable} -m pip install pillow\n",
    "\n",
    "import pydotplus\n",
    "import pandas as pd\n",
    "from sklearn.datasets import load_iris\n",
    "from sklearn import tree\n",
    "import collections\n",
    "from IPython.display import Image as PImage\n",
    "\n",
    "jugadores = pd.read_csv(\"datos.csv\")\n",
    "jugadores.shape\n",
    "jugadores.head()\n",
    "\n"
   ]
  },
  {
   "cell_type": "code",
   "execution_count": 17,
   "metadata": {},
   "outputs": [],
   "source": [
    "clima={'lluvioso':1,'nublado':2, 'soleado':3}\n",
    "temperatura={'frio':1, 'caliente':2, 'templado':3}\n",
    "humedad={'normal':1, 'alta':2}\n",
    "viento={'no':1,'si':2}\n",
    "palos={'malos':1, 'buenos':2}\n",
    "\n",
    "X = [[clima['lluvioso'],temperatura['frio'],humedad['normal'],viento['no'],palos['buenos']],\n",
    "     [clima['lluvioso'],temperatura['frio'],humedad['normal'],viento['si'],palos['buenos']],\n",
    "     [clima['nublado'],temperatura['caliente'],humedad['alta'],viento['no'],palos['buenos']],\n",
    "     [clima['soleado'],temperatura['templado'],humedad['alta'],viento['no'],palos['malos']],\n",
    "     [clima['lluvioso'],temperatura['frio'],humedad['normal'],viento['no'],palos['buenos']],\n",
    "     [clima['soleado'],temperatura['frio'],humedad['normal'],viento['no'],palos['buenos']],\n",
    "     [clima['lluvioso'],temperatura['frio'],humedad['normal'],viento['no'],palos['malos']],\n",
    "     [clima['soleado'],temperatura['caliente'],humedad['normal'],viento['no'],palos['buenos']],\n",
    "     [clima['nublado'],temperatura['templado'],humedad['alta'],viento['si'],palos['malos']],\n",
    "     [clima['soleado'],temperatura['templado'],humedad['alta'],viento['si'],palos['buenos']]]\n",
    "\n",
    "Y = ['si', 'no', 'si', 'no', 'si','si','si','si','si','no'] \n",
    "\n",
    "data_feature_names=['clima','temperatura','humedad','viento','palos']\n"
   ]
  },
  {
   "cell_type": "code",
   "execution_count": 14,
   "metadata": {},
   "outputs": [
    {
     "ename": "InvocationException",
     "evalue": "GraphViz's executables not found",
     "output_type": "error",
     "traceback": [
      "\u001b[1;31m---------------------------------------------------------------------------\u001b[0m",
      "\u001b[1;31mInvocationException\u001b[0m                       Traceback (most recent call last)",
      "\u001b[1;32m<ipython-input-14-5b42cf965126>\u001b[0m in \u001b[0;36m<module>\u001b[1;34m()\u001b[0m\n\u001b[0;32m     23\u001b[0m         \u001b[0mdest\u001b[0m \u001b[1;33m=\u001b[0m \u001b[0mgraph\u001b[0m\u001b[1;33m.\u001b[0m\u001b[0mget_node\u001b[0m\u001b[1;33m(\u001b[0m\u001b[0mstr\u001b[0m\u001b[1;33m(\u001b[0m\u001b[0medges\u001b[0m\u001b[1;33m[\u001b[0m\u001b[0medge\u001b[0m\u001b[1;33m]\u001b[0m\u001b[1;33m[\u001b[0m\u001b[0mi\u001b[0m\u001b[1;33m]\u001b[0m\u001b[1;33m)\u001b[0m\u001b[1;33m)\u001b[0m\u001b[1;33m[\u001b[0m\u001b[1;36m0\u001b[0m\u001b[1;33m]\u001b[0m\u001b[1;33m\u001b[0m\u001b[0m\n\u001b[0;32m     24\u001b[0m         \u001b[0mdest\u001b[0m\u001b[1;33m.\u001b[0m\u001b[0mset_fillcolor\u001b[0m\u001b[1;33m(\u001b[0m\u001b[0mcolors\u001b[0m\u001b[1;33m[\u001b[0m\u001b[0mi\u001b[0m\u001b[1;33m]\u001b[0m\u001b[1;33m)\u001b[0m\u001b[1;33m\u001b[0m\u001b[0m\n\u001b[1;32m---> 25\u001b[1;33m \u001b[0mgraph\u001b[0m\u001b[1;33m.\u001b[0m\u001b[0mwrite_png\u001b[0m\u001b[1;33m(\u001b[0m\u001b[1;34m'tree.png'\u001b[0m\u001b[1;33m)\u001b[0m\u001b[1;33m\u001b[0m\u001b[0m\n\u001b[0m\u001b[0;32m     26\u001b[0m \u001b[0mPImage\u001b[0m\u001b[1;33m(\u001b[0m\u001b[1;34m'tree.png'\u001b[0m\u001b[1;33m)\u001b[0m\u001b[1;33m\u001b[0m\u001b[0m\n",
      "\u001b[1;32mc:\\users\\randall\\appdata\\local\\programs\\python\\python36\\lib\\site-packages\\pydotplus\\graphviz.py\u001b[0m in \u001b[0;36m<lambda>\u001b[1;34m(path, f, prog)\u001b[0m\n\u001b[0;32m   1808\u001b[0m                 \u001b[1;32mlambda\u001b[0m \u001b[0mpath\u001b[0m\u001b[1;33m,\u001b[0m\u001b[1;33m\u001b[0m\u001b[0m\n\u001b[0;32m   1809\u001b[0m                 \u001b[0mf\u001b[0m\u001b[1;33m=\u001b[0m\u001b[0mfrmt\u001b[0m\u001b[1;33m,\u001b[0m\u001b[1;33m\u001b[0m\u001b[0m\n\u001b[1;32m-> 1810\u001b[1;33m                 \u001b[0mprog\u001b[0m\u001b[1;33m=\u001b[0m\u001b[0mself\u001b[0m\u001b[1;33m.\u001b[0m\u001b[0mprog\u001b[0m\u001b[1;33m:\u001b[0m \u001b[0mself\u001b[0m\u001b[1;33m.\u001b[0m\u001b[0mwrite\u001b[0m\u001b[1;33m(\u001b[0m\u001b[0mpath\u001b[0m\u001b[1;33m,\u001b[0m \u001b[0mformat\u001b[0m\u001b[1;33m=\u001b[0m\u001b[0mf\u001b[0m\u001b[1;33m,\u001b[0m \u001b[0mprog\u001b[0m\u001b[1;33m=\u001b[0m\u001b[0mprog\u001b[0m\u001b[1;33m)\u001b[0m\u001b[1;33m\u001b[0m\u001b[0m\n\u001b[0m\u001b[0;32m   1811\u001b[0m             )\n\u001b[0;32m   1812\u001b[0m \u001b[1;33m\u001b[0m\u001b[0m\n",
      "\u001b[1;32mc:\\users\\randall\\appdata\\local\\programs\\python\\python36\\lib\\site-packages\\pydotplus\\graphviz.py\u001b[0m in \u001b[0;36mwrite\u001b[1;34m(self, path, prog, format)\u001b[0m\n\u001b[0;32m   1916\u001b[0m \u001b[1;33m\u001b[0m\u001b[0m\n\u001b[0;32m   1917\u001b[0m             \u001b[1;32melse\u001b[0m\u001b[1;33m:\u001b[0m\u001b[1;33m\u001b[0m\u001b[0m\n\u001b[1;32m-> 1918\u001b[1;33m                 \u001b[0mfobj\u001b[0m\u001b[1;33m.\u001b[0m\u001b[0mwrite\u001b[0m\u001b[1;33m(\u001b[0m\u001b[0mself\u001b[0m\u001b[1;33m.\u001b[0m\u001b[0mcreate\u001b[0m\u001b[1;33m(\u001b[0m\u001b[0mprog\u001b[0m\u001b[1;33m,\u001b[0m \u001b[0mformat\u001b[0m\u001b[1;33m)\u001b[0m\u001b[1;33m)\u001b[0m\u001b[1;33m\u001b[0m\u001b[0m\n\u001b[0m\u001b[0;32m   1919\u001b[0m         \u001b[1;32mfinally\u001b[0m\u001b[1;33m:\u001b[0m\u001b[1;33m\u001b[0m\u001b[0m\n\u001b[0;32m   1920\u001b[0m             \u001b[1;32mif\u001b[0m \u001b[0mclose\u001b[0m\u001b[1;33m:\u001b[0m\u001b[1;33m\u001b[0m\u001b[0m\n",
      "\u001b[1;32mc:\\users\\randall\\appdata\\local\\programs\\python\\python36\\lib\\site-packages\\pydotplus\\graphviz.py\u001b[0m in \u001b[0;36mcreate\u001b[1;34m(self, prog, format)\u001b[0m\n\u001b[0;32m   1958\u001b[0m             \u001b[1;32mif\u001b[0m \u001b[0mself\u001b[0m\u001b[1;33m.\u001b[0m\u001b[0mprogs\u001b[0m \u001b[1;32mis\u001b[0m \u001b[1;32mNone\u001b[0m\u001b[1;33m:\u001b[0m\u001b[1;33m\u001b[0m\u001b[0m\n\u001b[0;32m   1959\u001b[0m                 raise InvocationException(\n\u001b[1;32m-> 1960\u001b[1;33m                     'GraphViz\\'s executables not found')\n\u001b[0m\u001b[0;32m   1961\u001b[0m \u001b[1;33m\u001b[0m\u001b[0m\n\u001b[0;32m   1962\u001b[0m         \u001b[1;32mif\u001b[0m \u001b[0mprog\u001b[0m \u001b[1;32mnot\u001b[0m \u001b[1;32min\u001b[0m \u001b[0mself\u001b[0m\u001b[1;33m.\u001b[0m\u001b[0mprogs\u001b[0m\u001b[1;33m:\u001b[0m\u001b[1;33m\u001b[0m\u001b[0m\n",
      "\u001b[1;31mInvocationException\u001b[0m: GraphViz's executables not found"
     ]
    }
   ],
   "source": [
    "# Training\n",
    "clf = tree.DecisionTreeClassifier()\n",
    "clf = clf.fit(X,Y)\n",
    "\n",
    "# Visualize data\n",
    "dot_data = tree.export_graphviz(clf,\n",
    "                                feature_names=data_feature_names,\n",
    "                                out_file=None,\n",
    "                                filled=True,\n",
    "                                rounded=True)\n",
    "\n",
    "graph = pydotplus.graph_from_dot_data(dot_data)\n",
    "\n",
    "colors = ('turquoise', 'orange')\n",
    "edges = collections.defaultdict(list)\n",
    "\n",
    "for edge in graph.get_edge_list():\n",
    "    edges[edge.get_source()].append(int(edge.get_destination()))\n",
    "\n",
    "for edge in edges:\n",
    "    edges[edge].sort()    \n",
    "    for i in range(2):\n",
    "        dest = graph.get_node(str(edges[edge][i]))[0]\n",
    "        dest.set_fillcolor(colors[i])\n",
    "graph.write_png('tree.png')\n",
    "PImage('tree.png')"
   ]
  },
  {
   "cell_type": "markdown",
   "metadata": {},
   "source": [
    "<h2>Random Forests</h2>"
   ]
  },
  {
   "cell_type": "markdown",
   "metadata": {},
   "source": [
    "El Random Forest es un algoritmo de machine learning supervisado, basado a partir de los árboles de decisión. Se caracteriza por su gran precisión de resultados, y es sumamente utilizado para la clasificación de elementos y regresión. Su método de aprendizaje indica que una combinación de modelos de aprendizaje aumenta el resultado general, debido a que su forma de construir y fusionar varios árboles de decisión le permite una predicción más acertada. La ventaja de utilizar los random forests es su flexibilidad, siendo así que es posible su uso para la mayoría de sistemas de aprendizaje. En lugar de buscar el atributo más importante mientras añade nodos en profundidad, busca el mejor atributo de un subconjunto aleatorio.\n",
    "\n"
   ]
  },
  {
   "cell_type": "code",
   "execution_count": null,
   "metadata": {},
   "outputs": [],
   "source": []
  }
 ],
 "metadata": {
  "kernelspec": {
   "display_name": "Python 3",
   "language": "python",
   "name": "python3"
  },
  "language_info": {
   "codemirror_mode": {
    "name": "ipython",
    "version": 3
   },
   "file_extension": ".py",
   "mimetype": "text/x-python",
   "name": "python",
   "nbconvert_exporter": "python",
   "pygments_lexer": "ipython3",
   "version": "3.6.6"
  }
 },
 "nbformat": 4,
 "nbformat_minor": 2
}
